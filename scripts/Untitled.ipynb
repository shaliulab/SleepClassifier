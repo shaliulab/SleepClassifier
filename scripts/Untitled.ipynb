{
 "cells": [
  {
   "cell_type": "code",
   "execution_count": 6,
   "id": "c3ad44cd-7dfe-49f2-b3be-3f117238cd0e",
   "metadata": {},
   "outputs": [],
   "source": [
    "import sklearn.datasets\n",
    "import matplotlib.pyplot as plt"
   ]
  },
  {
   "cell_type": "code",
   "execution_count": 27,
   "id": "596f7260-f460-49b7-917d-8d5635f0c4ed",
   "metadata": {},
   "outputs": [],
   "source": [
    "n_classes=2\n",
    "X, y = sklearn.datasets.make_blobs(n_features=100, centers=n_classes, cluster_std=1, n_samples=10000)"
   ]
  },
  {
   "cell_type": "code",
   "execution_count": 28,
   "id": "ee0e0559-0bcc-4000-be84-bcf6aa40c9dd",
   "metadata": {},
   "outputs": [
    {
     "data": {
      "image/png": "[encoded data removed]",
      "text/plain": [
       "<Figure size 432x288 with 1 Axes>"
      ]
     },
     "metadata": {
      "needs_background": "light"
     },
     "output_type": "display_data"
    }
   ],
   "source": [
    "for i in range(n_classes):\n",
    "    plt.scatter(X[y == i,10], X[y == i,1], label=str(i))\n"
   ]
  },
  {
   "cell_type": "code",
   "execution_count": 2,
   "id": "904249e3-1d7b-49e8-b031-f6a41e317cd8",
   "metadata": {},
   "outputs": [
    {
     "name": "stdout",
     "output_type": "stream",
     "text": [
      "--2022-02-24 22:53:08--  https://raw.githubusercontent.com/apwheele/Blog_Code/master/Python/PreppedCompas.csv\n",
      "Resolving raw.githubusercontent.com (raw.githubusercontent.com)... 185.199.111.133, 185.199.109.133, 185.199.110.133, ...\n",
      "Connecting to raw.githubusercontent.com (raw.githubusercontent.com)|185.199.111.133|:443... connected.\n",
      "HTTP request sent, awaiting response... 200 OK\n",
      "Length: 2367572 (2.3M) [text/plain]\n",
      "Saving to: ‘data/PreppredCompas.csv’\n",
      "\n",
      "data/PreppredCompas 100%[===================>]   2.26M  11.2MB/s    in 0.2s    \n",
      "\n",
      "2022-02-24 22:53:09 (11.2 MB/s) - ‘data/PreppredCompas.csv’ saved [2367572/2367572]\n",
      "\n"
     ]
    }
   ],
   "source": [
    "! mkdir -p data\n",
    "! wget https://raw.githubusercontent.com/apwheele/Blog_Code/master/Python/PreppedCompas.csv -O data/PreppedCompas.csv"
   ]
  },
  {
   "cell_type": "code",
   "execution_count": 4,
   "id": "843910b1-581a-40d1-9973-0ca2c5c5754f",
   "metadata": {},
   "outputs": [],
   "source": [
    "###############################################\n",
    "# Front end libraries/data prep\n",
    "\n",
    "import pandas as pd\n",
    "import numpy as np\n",
    "import matplotlib.pyplot as plt\n",
    "import torch\n",
    "\n",
    "# Setting seeds\n",
    "torch.manual_seed(10)\n",
    "np.random.seed(10)\n",
    "\n",
    "# Prepping the Compas data and making train/test\n",
    "recid = pd.read_csv('data/PreppedCompas.csv')\n",
    "\n",
    "#Preparing the variables I want\n",
    "recid_prep = recid[['Recid30','CompScore.1','CompScore.2','CompScore.3',\n",
    "                    'juv_fel_count','YearsScreening']].copy()\n",
    "recid_prep['Male'] = 1*(recid['sex'] == \"Male\")\n",
    "recid_prep['Fel'] = 1*(recid['c_charge_degree'] == \"F\")\n",
    "recid_prep['Mis'] = 1*(recid['c_charge_degree'] == \"M\")\n",
    "dum_race = pd.get_dummies(recid['race'])\n",
    "\n",
    "# White for reference category\n",
    "for d in list(dum_race):\n",
    "    if d != 'Caucasion':\n",
    "        recid_prep[d] = dum_race[d]\n",
    "\n",
    "# reference category is separated/unknown/widowed\n",
    "dum_mar = pd.get_dummies(recid['marital_status'])\n",
    "recid_prep['Single'] = dum_mar['Single']\n",
    "recid_prep['Married'] = dum_mar['Married'] + dum_mar['Significant Other']\n",
    "\n",
    "#Now generating train and test set\n",
    "recid_prep['Train'] = np.random.binomial(1,0.75,len(recid_prep))\n",
    "recid_train = recid_prep[recid_prep['Train'] == 1].copy()\n",
    "recid_test = recid_prep[recid_prep['Train'] == 0].copy()\n",
    "\n",
    "#Independant variables\n",
    "ind_vars = ['CompScore.1','CompScore.2','CompScore.3',\n",
    "            'juv_fel_count','YearsScreening','Male','Fel','Mis',\n",
    "            'African-American','Asian','Hispanic','Native American','Other',\n",
    "            'Single','Married']\n",
    "\n",
    "# Dependent variable\n",
    "y_var = 'Recid30'\n",
    "###############################################"
   ]
  },
  {
   "cell_type": "code",
   "execution_count": 5,
   "id": "4ef60ed5-5770-4cef-b77b-56cea198c91e",
   "metadata": {},
   "outputs": [],
   "source": [
    "# Initial pytorch model class\n",
    "class logit_pytorch(torch.nn.Module):\n",
    "    def __init__(self, nvars, device, activate='relu', bias=True,\n",
    "                 final='sigmoid'):\n",
    "        \"\"\"\n",
    "        Construct parameters for the coefficients \n",
    "        activate - either string ('relu' or 'tanh', \n",
    "                   or pass in your own torch function\n",
    "        bias - whether to include bias (intercept) in model\n",
    "        final - use either 'sigmoid' to squash to probs, or 'clamp'\n",
    "                or pass in your own torch function\n",
    "        device - torch device to construct the tensors\n",
    "                 default cuda:0 if available\n",
    "        \"\"\"\n",
    "        super(logit_pytorch, self).__init__()\n",
    "        # Creating the coefficient parameters\n",
    "        self.coef = torch.nn.Parameter(torch.rand((nvars,1),\n",
    "                    device=device)/10)\n",
    "        # If no bias it is 0\n",
    "        if bias:\n",
    "            self.bias = torch.nn.Parameter(torch.zeros(1,\n",
    "                    device=device))\n",
    "        else:\n",
    "            self.bias = torch.zeros(1, device=device)\n",
    "        # Various activation functions\n",
    "        if activate == 'relu':\n",
    "            self.trans = torch.nn.ReLU()\n",
    "        elif activate == 'tanh':\n",
    "            self.trans = torch.nn.Tanh()\n",
    "        else:\n",
    "            self.trans = activate\n",
    "        if final == 'sigmoid':\n",
    "            self.final = torch.nn.Sigmoid()\n",
    "        elif final == 'clamp':\n",
    "            # Defining my own clamp function\n",
    "            def tclamp(input):\n",
    "                return torch.clamp(input,min=0,max=1)\n",
    "            self.final = tclamp\n",
    "        else: \n",
    "            # Can pass in your own function\n",
    "            self.final = final\n",
    "    def forward(self, x):\n",
    "        \"\"\"\n",
    "        predicted probability\n",
    "        \"\"\"\n",
    "        output = self.bias + torch.mm(x, self.trans(self.coef))\n",
    "        return self.final(output)"
   ]
  },
  {
   "cell_type": "code",
   "execution_count": 6,
   "id": "2237d8c4-6cdb-453a-a3a8-5943359d9ea1",
   "metadata": {},
   "outputs": [],
   "source": [
    "# Creating a class to instantiate model to data and then fit\n",
    "class pytorchLogit():\n",
    "    def __init__(self, loss='logit', iters=25001, \n",
    "                 activate='relu', bias=True, \n",
    "                 final='sigmoid', device='gpu',\n",
    "                 printn=1000):\n",
    "        \"\"\"\n",
    "        loss - either string 'logit' or 'brier' or own pytorch function\n",
    "        iters - number of iterations to fit (default 25000)\n",
    "        activate - either string ('relu' or 'tanh', \n",
    "                   or pass in your own torch function\n",
    "        bias - whether to include bias (intercept) in model\n",
    "        final - use either 'sigmoid' to squash to probs, or 'clamp'\n",
    "                or pass in your own torch function. Should not use clamp\n",
    "                with default logit loss\n",
    "        opt - ?optimizer? should add an option for this\n",
    "        device - torch device to construct the tensors\n",
    "                 default cuda:0 if available\n",
    "        printn - how often to check the fit (default 1000 iters)\n",
    "        \"\"\"\n",
    "        super(pytorchLogit, self).__init__()\n",
    "        if loss == 'logit':\n",
    "            self.loss = torch.nn.BCELoss()\n",
    "            self.loss_name = 'logit'\n",
    "        elif loss == 'brier':\n",
    "            self.loss = torch.nn.MSELoss(reduction='mean')\n",
    "            self.loss_name = 'brier'\n",
    "        else:\n",
    "            self.loss = loss\n",
    "            self.loss_name = 'user defined function'\n",
    "        # Setting the torch device\n",
    "        if device == 'gpu':\n",
    "            try:\n",
    "                self.device = torch.device(\"cuda:0\")\n",
    "                print(f'Torch device GPU defaults to cuda:0')\n",
    "            except:\n",
    "                print('Unsuccessful setting to GPU, defaulting to CPU')\n",
    "                self.device = torch.device(\"cpu\")\n",
    "        elif device == 'cpu':\n",
    "            self.device = torch.device(\"cpu\")\n",
    "        else:\n",
    "            self.device = device #can pass in whatever\n",
    "        self.iters = iters\n",
    "        self.mod = None\n",
    "        self.activate = activate\n",
    "        self.bias = bias\n",
    "        self.final = final\n",
    "        self.printn = printn\n",
    "        # Other stats to carry forward\n",
    "        self.loss_metrics = []\n",
    "        self.epoch = 0\n",
    "    def fit(self, X, y, outX=None, outY=None):\n",
    "        x_ten = torch.tensor(X.to_numpy(), dtype=torch.float,\n",
    "                             device=self.device)\n",
    "        y_ten = torch.tensor(pd.DataFrame(y).to_numpy(), dtype=torch.float,\n",
    "                             device=self.device)\n",
    "        # Only needed if you pass in an out of sample to check as well\n",
    "        if outX is not None:\n",
    "            x_out_ten = torch.tensor(outX.to_numpy(), dtype=torch.float,\n",
    "                             device=self.device)\n",
    "            y_out_ten = torch.tensor(pd.DataFrame(outY).to_numpy(), dtype=torch.float,\n",
    "                             device=self.device)\n",
    "        self.epoch += 1\n",
    "        # If mod is not already created, create a new one, else update prior\n",
    "        if self.mod is None:\n",
    "            loc_mod = logit_pytorch(nvars=X.shape[1], activate=self.activate, \n",
    "                                    bias=self.bias, final=self.final, \n",
    "                                    device=self.device)\n",
    "            self.mod = loc_mod\n",
    "        else:\n",
    "            loc_mod = self.mod\n",
    "        opt = torch.optim.Adam(loc_mod.parameters(), lr=1e-4)\n",
    "        crit = self.loss\n",
    "        for t in range(self.iters):\n",
    "            opt.zero_grad()\n",
    "            y_pred = loc_mod(x_ten)\n",
    "            loss = crit(y_pred,y_ten)\n",
    "            if t % self.printn == 0:\n",
    "                if outX is not None:\n",
    "                    pred_os = loc_mod(x_out_ten)\n",
    "                    loss_os = crit(pred_os,y_out_ten)\n",
    "                    res_tup = (self.epoch, t, loss.item(), loss_os.item())\n",
    "                    print(f'{t}: insample {res_tup[2]:.4f}, outsample {res_tup[3]:.4f}')\n",
    "                else:\n",
    "                    res_tup = (self.epoch, t, loss.item(), None)\n",
    "                    print(f'{t}: insample {res_tup[2]:.5f}')\n",
    "                self.loss_metrics.append(res_tup)\n",
    "            loss.backward()\n",
    "            opt.step()\n",
    "    def predict_proba(self, X):\n",
    "        x_ten = torch.tensor(X.to_numpy(), dtype=torch.float,\n",
    "                             device=self.device)\n",
    "        res = self.mod(x_ten)\n",
    "        pp = res.cpu().detach().numpy()\n",
    "        return np.concatenate((1-pp,pp), axis=1)\n",
    "    def loss_stats(self, plot=True, select=0):\n",
    "        pd_stats = pd.DataFrame(self.loss_metrics, columns=['epoch','iteration',\n",
    "                                                            'insamploss','outsamploss'])\n",
    "        if plot:\n",
    "            pd_stats2 = pd_stats.rename(columns={'insamploss':'In Sample Loss', 'outsamploss':'Out of Sample Loss'})\n",
    "            pd_stats2 = pd_stats2[pd_stats2['iteration'] > select].copy()\n",
    "            ax = pd_stats2[['iteration','In Sample Loss','Out of Sample Loss']].plot.line(x='iteration', \n",
    "                            ylabel=f'{self.loss_name} loss')\n",
    "            plt.show()\n",
    "        return pd_stats"
   ]
  },
  {
   "cell_type": "code",
   "execution_count": 7,
   "id": "9661b81c-7914-4d8e-8ff6-beb5c8d86809",
   "metadata": {},
   "outputs": [
    {
     "name": "stdout",
     "output_type": "stream",
     "text": [
      "Torch device GPU defaults to cuda:0\n",
      "0: insample 2.12373\n",
      "1000: insample 0.65643\n",
      "2000: insample 0.64303\n",
      "3000: insample 0.63493\n",
      "4000: insample 0.62720\n",
      "5000: insample 0.62115\n",
      "6000: insample 0.61728\n",
      "7000: insample 0.61536\n",
      "8000: insample 0.61470\n",
      "9000: insample 0.61455\n",
      "10000: insample 0.61449\n",
      "11000: insample 0.61446\n",
      "12000: insample 0.61444\n",
      "13000: insample 0.61444\n",
      "14000: insample 0.61444\n",
      "15000: insample 0.61444\n",
      "16000: insample 0.61444\n",
      "17000: insample 0.61444\n",
      "18000: insample 0.61444\n",
      "19000: insample 0.61444\n",
      "20000: insample 0.61444\n",
      "21000: insample 0.61444\n",
      "22000: insample 0.61444\n",
      "23000: insample 0.61444\n",
      "24000: insample 0.61444\n",
      "25000: insample 0.61444\n"
     ]
    }
   ],
   "source": [
    "# Creating a model and fitting\n",
    "mod = pytorchLogit()\n",
    "mod.fit(recid_train[ind_vars], recid_train[y_var])"
   ]
  },
  {
   "cell_type": "code",
   "execution_count": 8,
   "id": "353cbc9b-a7c4-46a5-bdc4-c098fc1db822",
   "metadata": {},
   "outputs": [
    {
     "data": {
      "text/plain": [
       "logit_pytorch(\n",
       "  (trans): ReLU()\n",
       "  (final): Sigmoid()\n",
       ")"
      ]
     },
     "execution_count": 8,
     "metadata": {},
     "output_type": "execute_result"
    }
   ],
   "source": [
    "mod.mod"
   ]
  },
  {
   "cell_type": "code",
   "execution_count": null,
   "id": "97e87a75-87c5-4d4e-95d2-b1012e40cc44",
   "metadata": {},
   "outputs": [],
   "source": []
  }
 ],
 "metadata": {
  "kernelspec": {
   "display_name": "sleepML",
   "language": "python",
   "name": "sleepml"
  },
  "language_info": {
   "codemirror_mode": {
    "name": "ipython",
    "version": 3
   },
   "file_extension": ".py",
   "mimetype": "text/x-python",
   "name": "python",
   "nbconvert_exporter": "python",
   "pygments_lexer": "ipython3",
   "version": "3.7.4"
  }
 },
 "nbformat": 4,
 "nbformat_minor": 5
}
