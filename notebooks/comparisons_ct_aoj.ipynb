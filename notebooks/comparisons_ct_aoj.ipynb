{
 "cells": [
  {
   "cell_type": "code",
   "execution_count": 2,
   "metadata": {},
   "outputs": [],
   "source": [
    "import re\n",
    "import time\n",
    "import os\n",
    "import pickle\n",
    "import datetime\n",
    "\n",
    "import numpy as np\n",
    "import matplotlib\n",
    "import matplotlib.pyplot as plt\n",
    "import pandas as pd\n",
    "import tqdm\n",
    "import anndata\n",
    "import scanpy as sc\n",
    "import h5py\n",
    "import yaml\n"
   ]
  },
  {
   "cell_type": "code",
   "execution_count": 3,
   "metadata": {},
   "outputs": [
    {
     "name": "stdout",
     "output_type": "stream",
     "text": [
      "WARNING: If you miss a compact list, please try `print_header`!\n",
      "The `sinfo` package has changed name and is now called `session_info` to become more discoverable and self-explanatory. The `sinfo` PyPI package will be kept around to avoid breaking old installs and you can downgrade to 0.3.2 if you want to use it without seeing this message. For the latest features and bug fixes, please install `session_info` instead. The usage and defaults also changed slightly, so please review the latest README at https://gitlab.com/joelostblom/session_info.\n",
      "-----\n",
      "anndata     0.7.5\n",
      "scanpy      1.6.0\n",
      "sinfo       0.3.4\n",
      "-----\n",
      "PIL                         8.4.0\n",
      "backcall                    0.2.0\n",
      "beta_ufunc                  NA\n",
      "binom_ufunc                 NA\n",
      "bottleneck                  1.3.2\n",
      "cached_property             1.5.2\n",
      "cycler                      0.10.0\n",
      "cython_runtime              NA\n",
      "dateutil                    2.8.2\n",
      "debugpy                     1.5.1\n",
      "decorator                   5.1.1\n",
      "dunamai                     1.11.0\n",
      "entrypoints                 0.3\n",
      "get_version                 3.5.4\n",
      "google                      NA\n",
      "h5py                        3.6.0\n",
      "importlib_metadata          NA\n",
      "ipykernel                   6.7.0\n",
      "jedi                        0.18.1\n",
      "joblib                      1.1.0\n",
      "kiwisolver                  1.3.1\n",
      "legacy_api_wrap             1.2\n",
      "llvmlite                    0.35.0\n",
      "matplotlib                  3.5.0\n",
      "matplotlib_inline           NA\n",
      "mpl_toolkits                NA\n",
      "natsort                     8.0.2\n",
      "nbinom_ufunc                NA\n",
      "numba                       0.52.0\n",
      "numexpr                     2.8.1\n",
      "numpy                       1.21.5\n",
      "packaging                   21.3\n",
      "pandas                      1.3.5\n",
      "parso                       0.8.3\n",
      "pexpect                     4.8.0\n",
      "pickleshare                 0.7.5\n",
      "pkg_resources               NA\n",
      "prompt_toolkit              3.0.24\n",
      "psutil                      5.9.0\n",
      "ptyprocess                  0.7.0\n",
      "pydev_ipython               NA\n",
      "pydevconsole                NA\n",
      "pydevd                      2.6.0\n",
      "pydevd_concurrency_analyser NA\n",
      "pydevd_file_utils           NA\n",
      "pydevd_plugins              NA\n",
      "pydevd_tracing              NA\n",
      "pygments                    2.11.2\n",
      "pyparsing                   3.0.4\n",
      "pytz                        2021.3\n",
      "scipy                       1.7.3\n",
      "setuptools                  61.3.1\n",
      "setuptools_scm              NA\n",
      "six                         1.16.0\n",
      "sklearn                     1.0.2\n",
      "storemagic                  NA\n",
      "tables                      3.7.0\n",
      "threadpoolctl               3.1.0\n",
      "tornado                     6.1\n",
      "tqdm                        4.62.3\n",
      "traitlets                   5.1.1\n",
      "typing_extensions           NA\n",
      "wcwidth                     0.2.5\n",
      "yaml                        6.0\n",
      "zipp                        NA\n",
      "zmq                         22.3.0\n",
      "zope                        NA\n",
      "-----\n",
      "IPython             7.31.1\n",
      "jupyter_client      7.1.1\n",
      "jupyter_core        4.9.1\n",
      "-----\n",
      "Python 3.7.4 (default, Aug 13 2019, 20:35:49) [GCC 7.3.0]\n",
      "Linux-5.4.0-109-generic-x86_64-with-debian-buster-sid\n",
      "20 logical CPU cores, x86_64\n",
      "-----\n",
      "Session information updated at 2022-05-03 21:47\n",
      "\n"
     ]
    }
   ],
   "source": [
    "sc.settings.verbosity = 3             # verbosity: errors (0), warnings (1), info (2), hints (3)\n",
    "sc.logging.print_versions()\n",
    "#sc.settings.set_figure_params(dpi=120)"
   ]
  },
  {
   "cell_type": "code",
   "execution_count": 4,
   "metadata": {},
   "outputs": [],
   "source": [
    "ROOT_DIR = \"..\"\n",
    "CONFIG = os.path.join(ROOT_DIR, \"config.yaml\")\n"
   ]
  },
  {
   "cell_type": "code",
   "execution_count": 18,
   "metadata": {},
   "outputs": [],
   "source": [
    "with open(CONFIG, \"r\") as filehandle:\n",
    "    config = yaml.load(filehandle, yaml.SafeLoader)\n",
    "backgrounds = {k: None for k in config[\"background\"]}\n",
    "DATA_DIR = os.path.join(ROOT_DIR, config[\"data_dir\"])\n",
    "RESULTS_DIR = os.path.join(ROOT_DIR, config[\"results_dir\"])\n",
    "\n",
    "for back in backgrounds:\n",
    "    path=os.path.join(DATA_DIR, \"backgrounds\", f\"{back}.csv\")\n",
    "    backgrounds[back] = pd.read_csv(path)"
   ]
  },
  {
   "cell_type": "code",
   "execution_count": 19,
   "metadata": {},
   "outputs": [
    {
     "data": {
      "text/plain": [
       "'../2022-04-30_results_wake_vs_sleep/'"
      ]
     },
     "execution_count": 19,
     "metadata": {},
     "output_type": "execute_result"
    }
   ],
   "source": [
    "RESULTS_DIR"
   ]
  },
  {
   "cell_type": "code",
   "execution_count": 6,
   "metadata": {},
   "outputs": [
    {
     "data": {
      "text/plain": [
       "{'KC':   cluster     louvain_res  idx\n",
       " 0      ab  louvain_res2.0    4\n",
       " 1     abp  louvain_res2.0   19\n",
       " 2       y  louvain_res3.0    0,\n",
       " 'glia':   cluster     louvain_res  idx\n",
       " 0     CXG  louvain_res2.0   76\n",
       " 1     ALG  louvain_res8.0   19\n",
       " 2      PG  louvain_res4.0   81\n",
       " 3    EG_1  louvain_res4.0   28\n",
       " 4    EG_2  louvain_res8.0   64}"
      ]
     },
     "execution_count": 6,
     "metadata": {},
     "output_type": "execute_result"
    }
   ],
   "source": [
    "backgrounds"
   ]
  },
  {
   "cell_type": "code",
   "execution_count": 7,
   "metadata": {},
   "outputs": [],
   "source": [
    "adata = sc.read_h5ad(os.path.join(DATA_DIR, \"h5ad/Preloom/adata_25042022.h5ad\"))"
   ]
  },
  {
   "cell_type": "code",
   "execution_count": 8,
   "metadata": {},
   "outputs": [
    {
     "data": {
      "text/plain": [
       "Index(['Age', 'Condition', 'Genotype', 'Run', 'Singlet', 'Sleep_Stage',\n",
       "       'Treatment', 'doublet_scores', 'n_counts', 'n_genes', 'percent_mito',\n",
       "       'predicted_doublets', 'louvain', 'louvain_res0.4', 'louvain_res0.8',\n",
       "       'louvain_res1.0', 'louvain_res1.2', 'louvain_res1.6', 'louvain_res2.0',\n",
       "       'louvain_res3.0', 'louvain_res4.0', 'louvain_res8.0', 'Run_Set',\n",
       "       'Cluster_ID_res2', 'Cluster_ID_res8', 'Neurotransmitter', 'all_res8',\n",
       "       'HRG_sqrt', 'CRG_sqrt'],\n",
       "      dtype='object')"
      ]
     },
     "execution_count": 8,
     "metadata": {},
     "output_type": "execute_result"
    }
   ],
   "source": [
    "adata.obs.columns"
   ]
  },
  {
   "cell_type": "code",
   "execution_count": 9,
   "metadata": {},
   "outputs": [],
   "source": [
    "# cluster_to_res_dict = {\n",
    "#     'CXG': ['louvain_res2.0' , str(76)],\n",
    "#     'ALG+': ['louvain_res8.0' , str(19)],\n",
    "#     'ALG-': ['louvain_res8.0' , str(133)],\n",
    "#     'PNG': ['louvain_res4.0' , str(81)],\n",
    "#     #'SPG': ['louvain_res4.0' , str(77)],\n",
    "#     'EGN--': ['louvain_res2.0' , str(18)],\n",
    "#     'EGN+-': ['louvain_res4.0' , str(28)],\n",
    "#     'EGN++': ['louvain_res8.0' , str(64)],\n",
    "#     'ab': ['louvain_res2.0' , str(4)],\n",
    "#     'abp': ['louvain_res2.0' , str(19)],\n",
    "#     'y': ['louvain_res3.0' , str(0)],\n",
    "#     'nonPAM': ['louvain_res8.0' , str(136)],\n",
    "#     'PAM': ['louvain_res8.0' , str(37)],\n",
    "#     'clock': ['louvain_res8.0' , str(84)],\n",
    "#     'Tyr': ['louvain_res3.0' , str(105)],\n",
    "#     'Oct': ['louvain_res3.0' , str(103)],\n",
    "#     '5-HT': ['louvain_res8.0' , str(151)],\n",
    "#     'ring_A': ['louvain_res8.0' , str(100)],\n",
    "#     'ring_B': ['louvain_res8.0' , str(95)],     \n",
    "#     'adPN': ['louvain_res3.0' , str(31)],\n",
    "#     #'T4T5': ['louvain_res2.0' , str(38)],\n",
    "#     'PB45': ['louvain_res2.0' , str(43)],\n",
    "#     #'Tm1TmY8': ['louvain_res3.0' , str(101)],\n",
    "#     #'Mi1': ['louvain_res3.0' , str(91)],\n",
    "#     #'T1': ['louvain_res8.0' , str(135)]\n",
    "# }"
   ]
  },
  {
   "cell_type": "code",
   "execution_count": 10,
   "metadata": {},
   "outputs": [
    {
     "name": "stdout",
     "output_type": "stream",
     "text": [
      "[('ab_vs_rest', ['target'], 'background', None), ('abp_vs_rest', ['target'], 'background', None), ('y_vs_rest', ['target'], 'background', None), ('CXG_vs_rest', ['target'], 'background', None), ('ALG_vs_rest', ['target'], 'background', None), ('PG_vs_rest', ['target'], 'background', None), ('EG_1_vs_rest', ['target'], 'background', None), ('EG_2_vs_rest', ['target'], 'background', None)]\n"
     ]
    }
   ],
   "source": [
    "comparisons =[]\n",
    "CELLTYPE_COL = \"Cluster_ID_res8\"\n",
    "for back in backgrounds:\n",
    "    all_clusters = backgrounds[back][\"cluster\"]\n",
    "    for cluster in all_clusters:\n",
    "        comparison_name = f\"{cluster}_vs_rest\"\n",
    "        other_clusters = [c for c in all_clusters if c != cluster]\n",
    "        adata.obs[comparison_name] = None\n",
    "        adata.obs.loc[adata.obs[CELLTYPE_COL] == cluster, comparison_name] = \"target\"\n",
    "        adata.obs.loc[adata.obs[CELLTYPE_COL].isin(other_clusters), comparison_name] = \"background\"\n",
    "        comparisons.append(\n",
    "            (comparison_name, [\"target\"], \"background\", None)\n",
    "        ) \n",
    "\n",
    "print(comparisons)\n",
    "        \n",
    "# comparisons =[\n",
    "#     ('annotated_res8', ['EG_1'], 'ring_B', None),\n",
    "# ]\n",
    "# ('annotated_res8', ['EG_1'], 'ring_B', None),"
   ]
  },
  {
   "cell_type": "code",
   "execution_count": 11,
   "metadata": {},
   "outputs": [],
   "source": [
    "# adata.obs.loc[adata.obs[\"PG_vs_rest\"] == \"background\", CELLTYPE_COL]"
   ]
  },
  {
   "cell_type": "code",
   "execution_count": 12,
   "metadata": {},
   "outputs": [],
   "source": [
    "all_results = {}"
   ]
  },
  {
   "cell_type": "code",
   "execution_count": 13,
   "metadata": {},
   "outputs": [],
   "source": [
    "from collections import Counter"
   ]
  },
  {
   "cell_type": "code",
   "execution_count": 16,
   "metadata": {
    "collapsed": true,
    "jupyter": {
     "outputs_hidden": true
    },
    "tags": []
   },
   "outputs": [
    {
     "name": "stdout",
     "output_type": "stream",
     "text": [
      "Comparing ['target'] vs background under ab_vs_rest\n",
      "ranking genes\n"
     ]
    },
    {
     "name": "stderr",
     "output_type": "stream",
     "text": [
      "... storing 'current_diff' as categorical\n"
     ]
    },
    {
     "name": "stdout",
     "output_type": "stream",
     "text": [
      "    finished: added to `.uns['rank_genes_groups']`\n",
      "    'names', sorted np.recarray to be indexed by group ids\n",
      "    'scores', sorted np.recarray to be indexed by group ids\n",
      "    'logfoldchanges', sorted np.recarray to be indexed by group ids\n",
      "    'pvals', sorted np.recarray to be indexed by group ids\n",
      "    'pvals_adj', sorted np.recarray to be indexed by group ids (0:00:05)\n",
      "Comparing ['target'] vs background under abp_vs_rest\n",
      "ranking genes\n"
     ]
    },
    {
     "name": "stderr",
     "output_type": "stream",
     "text": [
      "... storing 'current_diff' as categorical\n"
     ]
    },
    {
     "name": "stdout",
     "output_type": "stream",
     "text": [
      "    finished: added to `.uns['rank_genes_groups']`\n",
      "    'names', sorted np.recarray to be indexed by group ids\n",
      "    'scores', sorted np.recarray to be indexed by group ids\n",
      "    'logfoldchanges', sorted np.recarray to be indexed by group ids\n",
      "    'pvals', sorted np.recarray to be indexed by group ids\n",
      "    'pvals_adj', sorted np.recarray to be indexed by group ids (0:00:05)\n",
      "Comparing ['target'] vs background under y_vs_rest\n",
      "ranking genes\n"
     ]
    },
    {
     "name": "stderr",
     "output_type": "stream",
     "text": [
      "... storing 'current_diff' as categorical\n"
     ]
    },
    {
     "name": "stdout",
     "output_type": "stream",
     "text": [
      "    finished: added to `.uns['rank_genes_groups']`\n",
      "    'names', sorted np.recarray to be indexed by group ids\n",
      "    'scores', sorted np.recarray to be indexed by group ids\n",
      "    'logfoldchanges', sorted np.recarray to be indexed by group ids\n",
      "    'pvals', sorted np.recarray to be indexed by group ids\n",
      "    'pvals_adj', sorted np.recarray to be indexed by group ids (0:00:05)\n",
      "Comparing ['target'] vs background under CXG_vs_rest\n",
      "ranking genes\n"
     ]
    },
    {
     "name": "stderr",
     "output_type": "stream",
     "text": [
      "... storing 'current_diff' as categorical\n"
     ]
    },
    {
     "name": "stdout",
     "output_type": "stream",
     "text": [
      "    finished: added to `.uns['rank_genes_groups']`\n",
      "    'names', sorted np.recarray to be indexed by group ids\n",
      "    'scores', sorted np.recarray to be indexed by group ids\n",
      "    'logfoldchanges', sorted np.recarray to be indexed by group ids\n",
      "    'pvals', sorted np.recarray to be indexed by group ids\n",
      "    'pvals_adj', sorted np.recarray to be indexed by group ids (0:00:01)\n",
      "Comparing ['target'] vs background under ALG_vs_rest\n",
      "ranking genes\n"
     ]
    },
    {
     "name": "stderr",
     "output_type": "stream",
     "text": [
      "... storing 'current_diff' as categorical\n"
     ]
    },
    {
     "name": "stdout",
     "output_type": "stream",
     "text": [
      "    finished: added to `.uns['rank_genes_groups']`\n",
      "    'names', sorted np.recarray to be indexed by group ids\n",
      "    'scores', sorted np.recarray to be indexed by group ids\n",
      "    'logfoldchanges', sorted np.recarray to be indexed by group ids\n",
      "    'pvals', sorted np.recarray to be indexed by group ids\n",
      "    'pvals_adj', sorted np.recarray to be indexed by group ids (0:00:01)\n",
      "Comparing ['target'] vs background under PG_vs_rest\n",
      "ranking genes\n"
     ]
    },
    {
     "name": "stderr",
     "output_type": "stream",
     "text": [
      "... storing 'current_diff' as categorical\n"
     ]
    },
    {
     "name": "stdout",
     "output_type": "stream",
     "text": [
      "    finished: added to `.uns['rank_genes_groups']`\n",
      "    'names', sorted np.recarray to be indexed by group ids\n",
      "    'scores', sorted np.recarray to be indexed by group ids\n",
      "    'logfoldchanges', sorted np.recarray to be indexed by group ids\n",
      "    'pvals', sorted np.recarray to be indexed by group ids\n",
      "    'pvals_adj', sorted np.recarray to be indexed by group ids (0:00:01)\n",
      "Comparing ['target'] vs background under EG_1_vs_rest\n",
      "ranking genes\n"
     ]
    },
    {
     "name": "stderr",
     "output_type": "stream",
     "text": [
      "... storing 'current_diff' as categorical\n"
     ]
    },
    {
     "name": "stdout",
     "output_type": "stream",
     "text": [
      "    finished: added to `.uns['rank_genes_groups']`\n",
      "    'names', sorted np.recarray to be indexed by group ids\n",
      "    'scores', sorted np.recarray to be indexed by group ids\n",
      "    'logfoldchanges', sorted np.recarray to be indexed by group ids\n",
      "    'pvals', sorted np.recarray to be indexed by group ids\n",
      "    'pvals_adj', sorted np.recarray to be indexed by group ids (0:00:01)\n",
      "Comparing ['target'] vs background under EG_2_vs_rest\n",
      "ranking genes\n"
     ]
    },
    {
     "name": "stderr",
     "output_type": "stream",
     "text": [
      "... storing 'current_diff' as categorical\n"
     ]
    },
    {
     "name": "stdout",
     "output_type": "stream",
     "text": [
      "    finished: added to `.uns['rank_genes_groups']`\n",
      "    'names', sorted np.recarray to be indexed by group ids\n",
      "    'scores', sorted np.recarray to be indexed by group ids\n",
      "    'logfoldchanges', sorted np.recarray to be indexed by group ids\n",
      "    'pvals', sorted np.recarray to be indexed by group ids\n",
      "    'pvals_adj', sorted np.recarray to be indexed by group ids (0:00:01)\n"
     ]
    }
   ],
   "source": [
    "# Set the resolution to use here\n",
    "cluster_obs = CELLTYPE_COL\n",
    "results = {}\n",
    "\n",
    "for comparison in comparisons:\n",
    "    obs, groups, reference, subset = comparison\n",
    "    comp_name = f'{\"_\".join(groups)}_vs_{reference}'\n",
    "    results = {}\n",
    "\n",
    "    results[comp_name] = {}\n",
    "    all_reference = [\"target\"]\n",
    "    all_reference = [\"background\"]         \n",
    "\n",
    "    for n, z in enumerate(zip(all_groups, all_reference)):\n",
    "        if n != 0 or subset != None:\n",
    "            obs_idx = 'within_cluster_diff'\n",
    "        else:\n",
    "            obs_idx = obs[:]\n",
    "\n",
    "        print(f'Comparing {z[0]} vs {z[1]} under {obs_idx}')\n",
    "\n",
    "        adata.obs['current_diff'] = None\n",
    "\n",
    "        if type(z[1]) == list:\n",
    "            ref_cells = set()\n",
    "            for g in z[1]:\n",
    "                ref_cells = ref_cells.union(adata.obs[adata.obs[obs_idx] == g].index)\n",
    "        else:\n",
    "            ref_cells = adata.obs[adata.obs[obs_idx] == z[1]].index\n",
    "\n",
    "        test_cells = set()\n",
    "        for g in z[0]:\n",
    "            test_cells = test_cells.union(adata.obs[adata.obs[obs_idx] == g].index)\n",
    "\n",
    "        adata.obs.loc[ref_cells, 'current_diff'] = 'ref'\n",
    "        adata.obs.loc[test_cells, 'current_diff'] = 'test'\n",
    "\n",
    "\n",
    "\n",
    "        try:\n",
    "            sc.tl.rank_genes_groups(adata, 'current_diff', groups=['test'], reference='ref' , method='wilcoxon', n_genes=adata.raw.shape[1])\n",
    "        except IndexError:\n",
    "            print('\\tNot enough cells in one group')\n",
    "            continue\n",
    "        except ZeroDivisionError:\n",
    "            print('\\tZero division!')\n",
    "            continue\n",
    "        except ValueError:\n",
    "            print('\\tSample doesn\\'t contain one group')\n",
    "            print(Counter(adata.obs['current_diff']))\n",
    "            continue\n",
    "\n",
    "        group_n = sum(adata.obs[obs_idx].isin(z[0]))\n",
    "\n",
    "        genes = np.ravel(adata.uns['rank_genes_groups']['names'].tolist())\n",
    "\n",
    "        group_exp_n = (adata[adata.obs[obs_idx].isin(z[0])].raw[:, genes].X > 0).sum(axis=0)\n",
    "        if type(z[1]) == list:\n",
    "            ref_n = sum(adata.obs[obs_idx].isin(z[1]))\n",
    "            ref_exp_n = (adata[adata.obs[obs_idx].isin(z[1])].raw[:, genes].X > 0).sum(axis=0)\n",
    "        else:\n",
    "            ref_n = sum(adata.obs[obs_idx] == z[1])\n",
    "            ref_exp_n = (adata[adata.obs[obs_idx] == z[1]].raw[:, genes].X > 0).sum(axis=0)\n",
    "\n",
    "\n",
    "        group_frac = (group_exp_n/group_n)\n",
    "        ref_frac = (ref_exp_n/ref_n)\n",
    "\n",
    "        adata.uns['rank_genes_groups']['basemean'] = np.ravel((adata.raw[:, genes].X).mean(axis=0))\n",
    "        adata.uns['rank_genes_groups']['cells_group'] = np.ravel(group_exp_n)\n",
    "        adata.uns['rank_genes_groups']['cells_ref'] = np.ravel(ref_exp_n)\n",
    "        adata.uns['rank_genes_groups']['fraction_group'] = np.ravel(group_frac)\n",
    "        adata.uns['rank_genes_groups']['fraction_ref'] = np.ravel(ref_frac)\n",
    "\n",
    "        if n == 0 and subset == None:\n",
    "            results[comp_name]['All_Cells'] = adata.uns['rank_genes_groups']\n",
    "        else:\n",
    "            results[comp_name][f'{\"_\".join(z[0])}_vs_{z[1]}'] = adata.uns['rank_genes_groups']\n",
    "\n",
    "\n",
    "    if subset == None: \n",
    "        all_results[f\"{obs}__{'All_Combined_No_ZT2_Wake'}__{'_'.join(groups)}_vs_{reference}\"] = results\n",
    "    else:\n",
    "        all_results[f\"{obs}__{'All_Combined_No_ZT2_Wake'}__{all_groups[0][0]}_vs_{all_reference[0]}\"] = results            \n"
   ]
  },
  {
   "cell_type": "code",
   "execution_count": 56,
   "metadata": {},
   "outputs": [],
   "source": [
    "def generate_markers_file(data, marker):\n",
    "    \n",
    "    data = data[[\"logfoldchange\",\"pval\"]]\n",
    "    data.reset_index(inplace=True)\n",
    "    data[\"gene\"] = data[\"index\"]\n",
    "    data[\"avg_logFC\"] = data[\"logfoldchange\"]\n",
    "    \n",
    "    data = data[[\"gene\", \"avg_logFC\", \"pval\"]]\n",
    "    \n",
    "    dest_dir = os.path.join(DATA_DIR, \"markers\")\n",
    "    \n",
    "    os.makedirs(dest_dir, exist_ok=True)\n",
    "    dest_file = os.path.join(dest_dir, f\"{marker}.tsv\")\n",
    "    data.to_csv(dest_file, sep=\"\\t\", index=False)"
   ]
  },
  {
   "cell_type": "code",
   "execution_count": 58,
   "metadata": {},
   "outputs": [
    {
     "name": "stdout",
     "output_type": "stream",
     "text": [
      "Working on ab_vs_rest__All_Combined_No_ZT2_Wake__target_vs_background\n",
      "\tOn: All_Cells\n",
      "ab\n"
     ]
    },
    {
     "name": "stderr",
     "output_type": "stream",
     "text": [
      "/home/vibflysleep/anaconda3/envs/SleepML/lib/python3.7/site-packages/ipykernel_launcher.py:5: SettingWithCopyWarning: \n",
      "A value is trying to be set on a copy of a slice from a DataFrame.\n",
      "Try using .loc[row_indexer,col_indexer] = value instead\n",
      "\n",
      "See the caveats in the documentation: https://pandas.pydata.org/pandas-docs/stable/user_guide/indexing.html#returning-a-view-versus-a-copy\n",
      "  \"\"\"\n",
      "/home/vibflysleep/anaconda3/envs/SleepML/lib/python3.7/site-packages/ipykernel_launcher.py:6: SettingWithCopyWarning: \n",
      "A value is trying to be set on a copy of a slice from a DataFrame.\n",
      "Try using .loc[row_indexer,col_indexer] = value instead\n",
      "\n",
      "See the caveats in the documentation: https://pandas.pydata.org/pandas-docs/stable/user_guide/indexing.html#returning-a-view-versus-a-copy\n",
      "  \n"
     ]
    },
    {
     "name": "stdout",
     "output_type": "stream",
     "text": [
      "Working on abp_vs_rest__All_Combined_No_ZT2_Wake__target_vs_background\n",
      "\tOn: All_Cells\n",
      "abp\n",
      "Working on y_vs_rest__All_Combined_No_ZT2_Wake__target_vs_background\n",
      "\tOn: All_Cells\n",
      "y\n",
      "Working on CXG_vs_rest__All_Combined_No_ZT2_Wake__target_vs_background\n",
      "\tOn: All_Cells\n",
      "CXG\n",
      "Working on ALG_vs_rest__All_Combined_No_ZT2_Wake__target_vs_background\n",
      "\tOn: All_Cells\n",
      "ALG\n",
      "Working on PG_vs_rest__All_Combined_No_ZT2_Wake__target_vs_background\n",
      "\tOn: All_Cells\n",
      "PG\n",
      "Working on EG_1_vs_rest__All_Combined_No_ZT2_Wake__target_vs_background\n",
      "\tOn: All_Cells\n",
      "EG_1\n",
      "Working on EG_2_vs_rest__All_Combined_No_ZT2_Wake__target_vs_background\n",
      "\tOn: All_Cells\n",
      "EG_2\n"
     ]
    }
   ],
   "source": [
    "COMPARISONS_DIR=f\"{RESULTS_DIR}/comparisons\"\n",
    "os.makedirs(COMPARISONS_DIR, exist_ok=True)\n",
    "\n",
    "\n",
    "for c, i in all_results.items():\n",
    "    \n",
    "    # if c == \"abp_vs_rest__All_Combined_No_ZT2_Wake__target_vs_background\":\n",
    "    #     break\n",
    "    for _, data in i.items():\n",
    "        # c = '__'.join(c.split(\"__\")[1:])\n",
    "        print(f'Working on {c}')\n",
    "        \n",
    "        filename = f\"{datetime.date.today().strftime('%Y%m%d')}_{c}_DiffExp_UpAndDown\"\n",
    "        excel_file = os.path.join(COMPARISONS_DIR, f\"{filename}.xlsx\")\n",
    "        csv_file = os.path.join(COMPARISONS_DIR, f\"{filename}.csv\")\n",
    "        \n",
    "                     \n",
    "        with pd.ExcelWriter(excel_file) as writer:        \n",
    "            for n, comparison in enumerate(sorted(data.keys(), key=lambda x: (int(x.split('_')[0].split(' ')[-1]) if x.split('_')[0].split(' ')[-1].isdigit() else float('-inf')))):\n",
    "                print(f'\\tOn: {comparison}')\n",
    "                df = pd.DataFrame(index=np.ravel(data[comparison]['names'].tolist()), columns =['basemean', 'cells_group', 'fraction_group', 'cells_ref', 'fraction_ref', 'zscore', 'logfoldchange', 'pval', 'pval_adj'])\n",
    "                df['basemean'] = data[comparison]['basemean']\n",
    "                df['cells_group'] = data[comparison]['cells_group']\n",
    "                df['cells_ref'] = data[comparison]['cells_ref']\n",
    "                df['fraction_group'] = data[comparison]['fraction_group']\n",
    "                df['fraction_ref'] = data[comparison]['fraction_ref']\n",
    "                df['zscore'] = np.ravel(data[comparison]['scores'].tolist())\n",
    "                df['logfoldchange'] = np.ravel(data[comparison]['logfoldchanges'].tolist())\n",
    "                df['pval'] = np.ravel(data[comparison]['pvals'].tolist())\n",
    "                df['pval_adj'] = np.ravel(data[comparison]['pvals_adj'].tolist())\n",
    "                if n == 0:\n",
    "                    sheet_name = 'All Cells'\n",
    "                else:\n",
    "                    try:\n",
    "                        sheet_name = f\"Cluster {int(comparison.split('__')[0]) + 1}\"\n",
    "                    except:\n",
    "                        sheet_name = f\"Cluster {comparison.split('__')[0]}\"\n",
    "                df.to_excel(writer, sheet_name=sheet_name)\n",
    "                df.to_csv(csv_file)\n",
    "                marker=re.search(\"(.*)_vs_.*__.*_vs.*\", c).group(1)\n",
    "                print(marker)\n",
    "                generate_markers_file(df, marker=marker)"
   ]
  },
  {
   "cell_type": "code",
   "execution_count": 12,
   "metadata": {},
   "outputs": [
    {
     "ename": "NameError",
     "evalue": "name 'adatas' is not defined",
     "output_type": "error",
     "traceback": [
      "\u001b[0;31m---------------------------------------------------------------------------\u001b[0m",
      "\u001b[0;31mNameError\u001b[0m                                 Traceback (most recent call last)",
      "\u001b[0;32m<ipython-input-12-6f34e6c0f3f7>\u001b[0m in \u001b[0;36m<module>\u001b[0;34m\u001b[0m\n\u001b[0;32m----> 1\u001b[0;31m \u001b[0;32mfor\u001b[0m \u001b[0msample\u001b[0m\u001b[0;34m,\u001b[0m \u001b[0mdata\u001b[0m \u001b[0;32min\u001b[0m \u001b[0madatas\u001b[0m\u001b[0;34m.\u001b[0m\u001b[0mitems\u001b[0m\u001b[0;34m(\u001b[0m\u001b[0;34m)\u001b[0m\u001b[0;34m:\u001b[0m\u001b[0;34m\u001b[0m\u001b[0;34m\u001b[0m\u001b[0m\n\u001b[0m\u001b[1;32m      2\u001b[0m     \u001b[0mdata\u001b[0m\u001b[0;34m.\u001b[0m\u001b[0mdetect_marker_genes\u001b[0m\u001b[0;34m(\u001b[0m\u001b[0mn_genes\u001b[0m \u001b[0;34m=\u001b[0m \u001b[0mdata\u001b[0m\u001b[0;34m.\u001b[0m\u001b[0madata\u001b[0m\u001b[0;34m.\u001b[0m\u001b[0mraw\u001b[0m\u001b[0;34m.\u001b[0m\u001b[0mshape\u001b[0m\u001b[0;34m[\u001b[0m\u001b[0;36m1\u001b[0m\u001b[0;34m]\u001b[0m\u001b[0;34m)\u001b[0m\u001b[0;34m\u001b[0m\u001b[0;34m\u001b[0m\u001b[0m\n",
      "\u001b[0;31mNameError\u001b[0m: name 'adatas' is not defined"
     ]
    }
   ],
   "source": [
    "for sample, data in adatas.items():\n",
    "    data.detect_marker_genes(n_genes = data.adata.raw.shape[1])  "
   ]
  },
  {
   "cell_type": "code",
   "execution_count": null,
   "metadata": {},
   "outputs": [],
   "source": []
  }
 ],
 "metadata": {
  "kernelspec": {
   "display_name": "SleepML",
   "language": "python",
   "name": "sleepml"
  },
  "language_info": {
   "codemirror_mode": {
    "name": "ipython",
    "version": 3
   },
   "file_extension": ".py",
   "mimetype": "text/x-python",
   "name": "python",
   "nbconvert_exporter": "python",
   "pygments_lexer": "ipython3",
   "version": "3.7.4"
  }
 },
 "nbformat": 4,
 "nbformat_minor": 4
}
