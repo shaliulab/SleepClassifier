{
 "cells": [
  {
   "cell_type": "code",
   "execution_count": 8,
   "id": "55093ba9-e66d-4ba4-a0c1-2471cb78165e",
   "metadata": {},
   "outputs": [
    {
     "name": "stdout",
     "output_type": "stream",
     "text": [
      "Sleep models pipeline\n",
      "\n",
      "Requirements:\n",
      "===================\n",
      "\n",
      "\n",
      "`sleep-models==1.1.1`\n",
      "\n",
      "Instructions\n",
      "==========================\n",
      "\n",
      "This pipeline has 5 steps:\n",
      "\n",
      "* 1: make_dataset. Creates a cached `anndata.AnnData` (.h5ad) only with cells from the desired background.\n",
      "* These backgrounds are read from the config, and the annotation used is defined in the `backgrounds` folder inside `config[\"data_dir\"]`\n",
      "\n",
      "2: get_marker_genes: Iteratively removes markers genes with a fold change above an increasingly low threshold, so the cell types\n",
      "in the background become as homogeneous as possible. A Dimensionality Reduction plot is generated at each threshold\n",
      "\n",
      "3: remove_marker_genes: Set the genes with a threshold higher than the selected threshold to 0\n",
      "\n",
      "4: train_models: have one or more of the supported models train using the transcriptomic data to predict sleep and wake\n",
      "\n",
      "5: predict: predict the sleep / wake status of a cell from the same cell type, or a different one\n",
      "\n"
     ]
    }
   ],
   "source": [
    "!cat README.md"
   ]
  },
  {
   "cell_type": "markdown",
   "id": "8d03d4f1-48d9-4803-ba38-a5ef438a7055",
   "metadata": {},
   "source": [
    "You can adjust the settings of the pipeline by changing the config.yaml file in the `SleepML` folder\n",
    "\n",
    "\n",
    "To change the logFC threshold that defines marker genes, update\n",
    "\n",
    "* `user_defined_log2FC_threshold.KC` for KC\n",
    "* `user_defined_log2FC_threshold.glia` for glia\n",
    "\n",
    "To change the logFC threshold probled, update\n",
    "\n",
    "* `log2FC_thresholds.KC` for KC\n",
    "* `log2FC_thresholds.glia` for glia\n",
    "\n",
    "To change the model architectures to be trained, update\n",
    "\n",
    "* `arch`\n",
    "\n",
    "To change the DR algorithms ran during the marker gene probing, update\n",
    "\n",
    "* `DR_algorithm`\n",
    "\n",
    "To change the number of *in-silico* replicates, update\n",
    "\n",
    "* seeds list in `seeds`\n",
    "\n",
    "To use the marker gene database downloaded from scope, set\n",
    "\n",
    "* `markers`"
   ]
  },
  {
   "cell_type": "code",
   "execution_count": null,
   "id": "33eb25d2-535b-4537-bdc5-b6afb4a7ab7b",
   "metadata": {},
   "outputs": [],
   "source": [
    "# Uncomment the one you wanna run\n",
    "# !ln -sf config_wake_vs_sleep.yaml config.yaml \n",
    "# !ln -sf config_conditions.yaml config.yaml"
   ]
  },
  {
   "cell_type": "markdown",
   "id": "b0f694b9-d9fd-4af3-9b82-4657d11b4487",
   "metadata": {},
   "source": [
    "**Please update the `results_dir` and `temp_data_dir` fields in the config so they have the timestamp of today**"
   ]
  },
  {
   "cell_type": "code",
   "execution_count": 1,
   "id": "733f7096-67ff-46ed-8f55-f00c867f065c",
   "metadata": {},
   "outputs": [
    {
     "name": "stdout",
     "output_type": "stream",
     "text": [
      "# Which background of cell types to work with\n",
      "background:\n",
      "  KC:\n",
      "  glia:\n",
      "\n",
      "# Marker gene filtering settings\n",
      "user_defined_log2FC_threshold:\n",
      "  # genes above this threshold will not be considerd for the analysis\n",
      "  KC:\n",
      "    1.0\n",
      "  glia:\n",
      "    1.0\n",
      "  peptides:\n",
      "    3.0\n",
      "log2FC_thresholds:\n",
      "  # A separate UMAP will be computed on the result of removing genes\n",
      "  # with an abs log2FC higher than this\n",
      "  KC:\n",
      "    [8.0, 7.0, 6.0, 5.0, 4.0, 3.0, 2.5, 2.0, 1.5, 1.0, 0.5, 0.0]\n",
      "  glia:\n",
      "    [9.99, 9.0, 8.0, 7.0, 6.5, 6.0, 5.5, 5.0, 4.5, 4.0, 3.5, 3.0, 2.5, 2.0, 1.5, 1.0, 0.5, 0.0]\n",
      "max_clusters:\n",
      "  # if a marker is gene is shared by this or more cell types\n",
      "  # of the background, it is still considered for the analysis\n",
      "  # because it is not a marker anymore within the background\n",
      "  KC:\n",
      "    5\n",
      "  glia:\n",
      "    10\n",
      "\n",
      "# Dataset generation settings\n",
      "raw: True\n",
      "exclude_genes_file: None\n",
      "batch_genes_file: \"batch_effects.xlsx\"\n",
      "highly_variable_genes: False\n",
      "h5ad_input: \"h5ad/Preloom/All_Combined_No_ZT2_Wake.h5ad\"\n",
      "\n",
      "# Model settings\n",
      "arch: [\"EBM\", \"RF\", \"NeuralNetwork\"] # this is the selected model in this run.\n",
      "#arch: [\"NeuralNetwork\"] # this is the selected model in this run.\n",
      "# Implemented models:\n",
      "#    * EBM\n",
      "#    * Neural Network\n",
      "#    * KNN ?\n",
      "#    * RF ?\n",
      "\n",
      "# Reproducibility settigs\n",
      "seeds: [1000, 2000, 3000, 4000]\n",
      "# Execution settings\n",
      "ncores: -2\n",
      "\n",
      "# Plotting settings\n",
      "plotting_kwargs:\n",
      "  barlimits: [50, 75]\n",
      "  dpi: 600\n",
      "  rotation: [90, 0]\n",
      "\n",
      "extensions: [\"png\", \"svg\"]\n",
      "cache: False\n",
      "data_dir: \"data/\"\n",
      "marker_database: \"markers/\"\n",
      "temp_data_dir: \"2022-05-06_data_wake_vs_sleep/\"\n",
      "results_dir: \"2022-05-06_results_wake_vs_sleep/\"\n",
      "template: None\n",
      "DR_algorithm: [\"TruncatedSVD\", \"UMAP\", \"TSNE\"]\n",
      "target: \"Treatment\"\n",
      "# secondary_target: \"CellType\"\n",
      "shuffles: 1\n",
      "pinned_columns: [\"Treatment\", \"Condition\"]\n"
     ]
    }
   ],
   "source": [
    "!cat config.yaml"
   ]
  },
  {
   "cell_type": "code",
   "execution_count": 2,
   "id": "893e2311-d9c5-4468-8a93-e103de401750",
   "metadata": {},
   "outputs": [
    {
     "name": "stdout",
     "output_type": "stream",
     "text": [
      "/home/vibflysleep/anaconda3/envs/SleepML/lib/python3.7/site-packages/anndata/compat/__init__.py:182: FutureWarning: Moving element from .uns['neighbors']['distances'] to .obsp['distances'].\n",
      "\n",
      "This is where adjacency matrices should go now.\n",
      "  FutureWarning,\n",
      "/home/vibflysleep/anaconda3/envs/SleepML/lib/python3.7/site-packages/anndata/compat/__init__.py:182: FutureWarning: Moving element from .uns['neighbors']['connectivities'] to .obsp['connectivities'].\n",
      "\n",
      "This is where adjacency matrices should go now.\n",
      "  FutureWarning,\n",
      "/home/vibflysleep/anaconda3/envs/SleepML/lib/python3.7/site-packages/pandas/core/arrays/categorical.py:2631: FutureWarning: The `inplace` parameter in pandas.Categorical.remove_unused_categories is deprecated and will be removed in a future version.\n",
      "  res = method(*args, **kwargs)\n",
      "/home/vibflysleep/anaconda3/envs/SleepML/lib/python3.7/site-packages/anndata/_core/anndata.py:1208: ImplicitModificationWarning: Initializing view as actual.\n",
      "  \"Initializing view as actual.\", ImplicitModificationWarning\n",
      "Trying to set attribute `.obs` of view, copying.\n",
      "... storing 'CellType' as categorical\n",
      "... storing 'Age' as categorical\n",
      "... storing 'Condition' as categorical\n",
      "... storing 'Genotype' as categorical\n",
      "... storing 'Run' as categorical\n",
      "... storing 'Sleep_Stage' as categorical\n",
      "... storing 'Treatment' as categorical\n",
      "... storing 'louvain' as categorical\n",
      "... storing 'louvain_res0.4' as categorical\n",
      "... storing 'louvain_res0.8' as categorical\n",
      "... storing 'louvain_res1.0' as categorical\n",
      "... storing 'louvain_res1.2' as categorical\n",
      "... storing 'louvain_res1.6' as categorical\n",
      "... storing 'louvain_res2.0' as categorical\n",
      "... storing 'louvain_res3.0' as categorical\n",
      "... storing 'louvain_res4.0' as categorical\n",
      "... storing 'louvain_res8.0' as categorical\n",
      "... storing 'Run_Set' as categorical\n",
      "Trying to set attribute `.obs` of view, copying.\n",
      "... storing 'CellType' as categorical\n",
      "... storing 'Age' as categorical\n",
      "... storing 'Condition' as categorical\n",
      "... storing 'Genotype' as categorical\n",
      "... storing 'Run' as categorical\n",
      "... storing 'Sleep_Stage' as categorical\n",
      "... storing 'Treatment' as categorical\n",
      "... storing 'louvain_res1.2' as categorical\n",
      "... storing 'louvain_res1.6' as categorical\n",
      "... storing 'Run_Set' as categorical\n"
     ]
    }
   ],
   "source": [
    "! /home/vibflysleep/anaconda3/envs/SleepML/bin/python 01-pipeline/01_make_dataset.py"
   ]
  },
  {
   "cell_type": "code",
   "execution_count": null,
   "id": "e2a7b468-fdac-401c-aaee-2c01985de35d",
   "metadata": {},
   "outputs": [
    {
     "name": "stdout",
     "output_type": "stream",
     "text": [
      "Done in 0.65 seconds\n",
      "/Users/Antonio/Projects/SleepML/sleep-models/sleep_models/plotting/plotting.py:244: UserWarning: You have used the `textcoords` kwarg, but not the `xytext` kwarg.  This can lead to surprising results.\n",
      "  size=22,\n",
      "/Users/Antonio/Projects/SleepML/sleep-models/sleep_models/plotting/plotting.py:244: UserWarning: You have used the `textcoords` kwarg, but not the `xytext` kwarg.  This can lead to surprising results.\n",
      "  size=22,\n",
      "Computing DR at threshold = 8.0:   0%|                   | 0/12 [00:00<?, ?it/s]Done in 0.09 seconds\n",
      "/Users/Antonio/Projects/SleepML/sleep-models/sleep_models/plotting/plotting.py:244: UserWarning: You have used the `textcoords` kwarg, but not the `xytext` kwarg.  This can lead to surprising results.\n",
      "  size=22,\n",
      "/Users/Antonio/Projects/SleepML/sleep-models/sleep_models/plotting/plotting.py:244: UserWarning: You have used the `textcoords` kwarg, but not the `xytext` kwarg.  This can lead to surprising results.\n",
      "  size=22,\n",
      "Computing DR at threshold = 7.0:   8%|▉          | 1/12 [00:03<00:34,  3.13s/it]Done in 0.09 seconds\n",
      "/Users/Antonio/Projects/SleepML/sleep-models/sleep_models/plotting/plotting.py:244: UserWarning: You have used the `textcoords` kwarg, but not the `xytext` kwarg.  This can lead to surprising results.\n",
      "  size=22,\n",
      "/Users/Antonio/Projects/SleepML/sleep-models/sleep_models/plotting/plotting.py:244: UserWarning: You have used the `textcoords` kwarg, but not the `xytext` kwarg.  This can lead to surprising results.\n",
      "  size=22,\n",
      "Computing DR at threshold = 6.0:  17%|█▊         | 2/12 [00:06<00:29,  2.99s/it]Done in 0.09 seconds\n",
      "/Users/Antonio/Projects/SleepML/sleep-models/sleep_models/plotting/plotting.py:244: UserWarning: You have used the `textcoords` kwarg, but not the `xytext` kwarg.  This can lead to surprising results.\n",
      "  size=22,\n",
      "/Users/Antonio/Projects/SleepML/sleep-models/sleep_models/plotting/plotting.py:244: UserWarning: You have used the `textcoords` kwarg, but not the `xytext` kwarg.  This can lead to surprising results.\n",
      "  size=22,\n",
      "Computing DR at threshold = 5.0:  25%|██▊        | 3/12 [00:08<00:26,  2.94s/it]Done in 0.09 seconds\n",
      "/Users/Antonio/Projects/SleepML/sleep-models/sleep_models/plotting/plotting.py:244: UserWarning: You have used the `textcoords` kwarg, but not the `xytext` kwarg.  This can lead to surprising results.\n",
      "  size=22,\n",
      "/Users/Antonio/Projects/SleepML/sleep-models/sleep_models/plotting/plotting.py:244: UserWarning: You have used the `textcoords` kwarg, but not the `xytext` kwarg.  This can lead to surprising results.\n",
      "  size=22,\n",
      "Computing DR at threshold = 4.0:  33%|███▋       | 4/12 [00:11<00:23,  2.91s/it]Done in 0.09 seconds\n",
      "/Users/Antonio/Projects/SleepML/sleep-models/sleep_models/plotting/plotting.py:244: UserWarning: You have used the `textcoords` kwarg, but not the `xytext` kwarg.  This can lead to surprising results.\n",
      "  size=22,\n",
      "/Users/Antonio/Projects/SleepML/sleep-models/sleep_models/plotting/plotting.py:244: UserWarning: You have used the `textcoords` kwarg, but not the `xytext` kwarg.  This can lead to surprising results.\n",
      "  size=22,\n",
      "Computing DR at threshold = 3.0:  42%|████▌      | 5/12 [00:14<00:20,  2.91s/it]Done in 0.08 seconds\n",
      "/Users/Antonio/Projects/SleepML/sleep-models/sleep_models/plotting/plotting.py:244: UserWarning: You have used the `textcoords` kwarg, but not the `xytext` kwarg.  This can lead to surprising results.\n",
      "  size=22,\n",
      "/Users/Antonio/Projects/SleepML/sleep-models/sleep_models/plotting/plotting.py:244: UserWarning: You have used the `textcoords` kwarg, but not the `xytext` kwarg.  This can lead to surprising results.\n",
      "  size=22,\n",
      "Computing DR at threshold = 2.5:  50%|█████▌     | 6/12 [00:17<00:17,  2.90s/it]Done in 0.09 seconds\n",
      "/Users/Antonio/Projects/SleepML/sleep-models/sleep_models/plotting/plotting.py:244: UserWarning: You have used the `textcoords` kwarg, but not the `xytext` kwarg.  This can lead to surprising results.\n",
      "  size=22,\n",
      "/Users/Antonio/Projects/SleepML/sleep-models/sleep_models/plotting/plotting.py:244: UserWarning: You have used the `textcoords` kwarg, but not the `xytext` kwarg.  This can lead to surprising results.\n",
      "  size=22,\n",
      "Computing DR at threshold = 2.0:  58%|██████▍    | 7/12 [00:20<00:14,  2.94s/it]Done in 0.08 seconds\n",
      "/Users/Antonio/Projects/SleepML/sleep-models/sleep_models/plotting/plotting.py:244: UserWarning: You have used the `textcoords` kwarg, but not the `xytext` kwarg.  This can lead to surprising results.\n",
      "  size=22,\n",
      "/Users/Antonio/Projects/SleepML/sleep-models/sleep_models/plotting/plotting.py:244: UserWarning: You have used the `textcoords` kwarg, but not the `xytext` kwarg.  This can lead to surprising results.\n",
      "  size=22,\n",
      "Computing DR at threshold = 1.5:  67%|███████▎   | 8/12 [00:23<00:11,  2.95s/it]Done in 0.09 seconds\n",
      "/Users/Antonio/Projects/SleepML/sleep-models/sleep_models/plotting/plotting.py:244: UserWarning: You have used the `textcoords` kwarg, but not the `xytext` kwarg.  This can lead to surprising results.\n",
      "  size=22,\n",
      "/Users/Antonio/Projects/SleepML/sleep-models/sleep_models/plotting/plotting.py:196: RuntimeWarning: More than 20 figures have been opened. Figures created through the pyplot interface (`matplotlib.pyplot.figure`) are retained until explicitly closed and may consume too much memory. (To control this warning, see the rcParam `figure.max_open_warning`).\n",
      "  fig, axs = plt.subplots(2, 1, gridspec_kw={\"height_ratios\": [0.05, 0.95]})\n",
      "/Users/Antonio/Projects/SleepML/sleep-models/sleep_models/plotting/plotting.py:244: UserWarning: You have used the `textcoords` kwarg, but not the `xytext` kwarg.  This can lead to surprising results.\n",
      "  size=22,\n",
      "Computing DR at threshold = 1.0:  75%|████████▎  | 9/12 [00:26<00:09,  3.01s/it]Done in 0.08 seconds\n",
      "/Users/Antonio/Projects/SleepML/sleep-models/sleep_models/plotting/plotting.py:244: UserWarning: You have used the `textcoords` kwarg, but not the `xytext` kwarg.  This can lead to surprising results.\n",
      "  size=22,\n",
      "/Users/Antonio/Projects/SleepML/sleep-models/sleep_models/plotting/plotting.py:244: UserWarning: You have used the `textcoords` kwarg, but not the `xytext` kwarg.  This can lead to surprising results.\n",
      "  size=22,\n",
      "Computing DR at threshold = 0.5:  83%|████████▎ | 10/12 [00:30<00:06,  3.14s/it]Done in 0.1 seconds\n",
      "/Users/Antonio/Projects/SleepML/sleep-models/sleep_models/plotting/plotting.py:244: UserWarning: You have used the `textcoords` kwarg, but not the `xytext` kwarg.  This can lead to surprising results.\n",
      "  size=22,\n",
      "/Users/Antonio/Projects/SleepML/sleep-models/sleep_models/plotting/plotting.py:244: UserWarning: You have used the `textcoords` kwarg, but not the `xytext` kwarg.  This can lead to surprising results.\n",
      "  size=22,\n",
      "Computing DR at threshold = 0.0:  92%|█████████▏| 11/12 [00:33<00:03,  3.33s/it]Done in 0.09 seconds\n",
      "/Users/Antonio/Projects/SleepML/sleep-models/sleep_models/plotting/plotting.py:244: UserWarning: You have used the `textcoords` kwarg, but not the `xytext` kwarg.  This can lead to surprising results.\n",
      "  size=22,\n",
      "/Users/Antonio/Projects/SleepML/sleep-models/sleep_models/plotting/plotting.py:244: UserWarning: You have used the `textcoords` kwarg, but not the `xytext` kwarg.  This can lead to surprising results.\n",
      "  size=22,\n",
      "Computing DR at threshold = 0.0: 100%|██████████| 12/12 [00:38<00:00,  3.21s/it]\n",
      "/home/vibflysleep/anaconda3/envs/SleepML/lib/python3.7/site-packages/numba/np/ufunc/parallel.py:363: NumbaWarning: The TBB threading layer requires TBB version 2019.5 or later i.e., TBB_INTERFACE_VERSION >= 11005. Found TBB_INTERFACE_VERSION = 9107. The TBB threading layer is disabled.\n",
      "  warnings.warn(problem)\n",
      "Done in 21.65 seconds\n",
      "/Users/Antonio/Projects/SleepML/sleep-models/sleep_models/plotting/plotting.py:244: UserWarning: You have used the `textcoords` kwarg, but not the `xytext` kwarg.  This can lead to surprising results.\n",
      "  size=22,\n",
      "/Users/Antonio/Projects/SleepML/sleep-models/sleep_models/plotting/plotting.py:244: UserWarning: You have used the `textcoords` kwarg, but not the `xytext` kwarg.  This can lead to surprising results.\n",
      "  size=22,\n",
      "Computing DR at threshold = 8.0:   0%|                   | 0/12 [00:00<?, ?it/s]"
     ]
    }
   ],
   "source": [
    "! /home/vibflysleep/anaconda3/envs/SleepML/bin/python 01-pipeline/02_get_marker_genes.py"
   ]
  },
  {
   "cell_type": "code",
   "execution_count": null,
   "id": "e5a877de-ad17-4cce-9e3d-3d8e2c1058b6",
   "metadata": {},
   "outputs": [],
   "source": [
    "! /home/vibflysleep/anaconda3/envs/SleepML/bin/python 01-pipeline/03_remove_marker_genes.py"
   ]
  },
  {
   "cell_type": "code",
   "execution_count": null,
   "id": "8b3856e6-9c3a-41d0-8222-58284672f5b1",
   "metadata": {},
   "outputs": [],
   "source": [
    "! /home/vibflysleep/anaconda3/envs/SleepML/bin/python 01-pipeline/04_train_models.py"
   ]
  },
  {
   "cell_type": "code",
   "execution_count": null,
   "id": "81139422-53d2-4db8-9ebf-50e3cffbaf19",
   "metadata": {},
   "outputs": [],
   "source": [
    "! /home/vibflysleep/anaconda3/envs/SleepML/bin/python 01-pipeline/05_predict.py"
   ]
  },
  {
   "cell_type": "code",
   "execution_count": null,
   "id": "0a8dc969-65e6-4c4f-a165-c0ddfea1a6db",
   "metadata": {},
   "outputs": [],
   "source": []
  }
 ],
 "metadata": {
  "kernelspec": {
   "display_name": "SleepML",
   "language": "python",
   "name": "sleepml"
  },
  "language_info": {
   "codemirror_mode": {
    "name": "ipython",
    "version": 3
   },
   "file_extension": ".py",
   "mimetype": "text/x-python",
   "name": "python",
   "nbconvert_exporter": "python",
   "pygments_lexer": "ipython3",
   "version": "3.7.4"
  }
 },
 "nbformat": 4,
 "nbformat_minor": 5
}
