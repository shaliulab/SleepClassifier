{
 "cells": [
  {
   "cell_type": "markdown",
   "id": "4940a63a-b1a7-48a5-9ff7-58ae0b8cec01",
   "metadata": {},
   "source": [
    "# Simple models"
   ]
  },
  {
   "cell_type": "code",
   "execution_count": 1,
   "id": "ba8bc9fa-7510-4345-8bae-a339e04ca9da",
   "metadata": {},
   "outputs": [],
   "source": [
    "import os.path\n",
    "import yaml"
   ]
  },
  {
   "cell_type": "code",
   "execution_count": 2,
   "id": "44946cba-5072-47ba-b2b4-41d664620855",
   "metadata": {},
   "outputs": [],
   "source": [
    "import numpy as np\n",
    "import matplotlib.pyplot as plt"
   ]
  },
  {
   "cell_type": "code",
   "execution_count": 3,
   "id": "c5e0553a-4579-44cb-be2a-69ce14b955ce",
   "metadata": {},
   "outputs": [],
   "source": [
    "import sleep_models\n",
    "import sleep_models.models.torch.utils.data as data_utils\n",
    "from sleep_models.models.torch.variables import ModelProperties\n",
    "from sleep_models.utils.adata import encode_y"
   ]
  },
  {
   "cell_type": "code",
   "execution_count": 4,
   "id": "37e509e4-ad6d-47a9-8dcb-0be612965e8f",
   "metadata": {},
   "outputs": [],
   "source": [
    "from sklearn.ensemble import RandomForestClassifier\n",
    "from sklearn.svm import SVC\n",
    "from sklearn.neighbors import KNeighborsClassifier"
   ]
  },
  {
   "cell_type": "code",
   "execution_count": 5,
   "id": "a7cd0aab-7022-4393-84db-53e5925f547d",
   "metadata": {},
   "outputs": [],
   "source": [
    "BACKGROUND = \"glia\"\n",
    "CLUSTER = \"EGN++\"\n",
    "MODEL_PROPERTIES = ModelProperties(target=\"Condition\", task=\"CLASSIFIER\", encoding=\"ONE_HOT\")\n",
    "SEED = 1000\n",
    "FRACTION = 1.0\n",
    "TRIM=False"
   ]
  },
  {
   "cell_type": "code",
   "execution_count": 6,
   "id": "59cf130e-9d94-4c69-addd-214020f0575d",
   "metadata": {},
   "outputs": [],
   "source": [
    "def load_data(background, cluster, model_properties, seed, fraction, trim=False):\n",
    "    h5ad_input = f\"../results/{BACKGROUND}-data/{BACKGROUND}-no-marker-genes.h5ad\"\n",
    "    output_root = f\"../results/{BACKGROUND}-models/RF/\"\n",
    "\n",
    "    output = os.path.join(output_root, f\"random_state_{seed}_fraction_{fraction}\")\n",
    "    label_mapping_file = \"../data/templates/simple_condition_mapping.yaml\"\n",
    "\n",
    "    with open(label_mapping_file, \"r\") as filehandle:\n",
    "        label_mapping = yaml.load(filehandle, yaml.SafeLoader)\n",
    "    \n",
    "    data = data_utils.load_data(\n",
    "        h5ad_input,\n",
    "        output = output,\n",
    "        cluster=cluster,\n",
    "        seed=seed,\n",
    "        highly_variable_genes=False,\n",
    "        model_properties = MODEL_PROPERTIES,\n",
    "        label_mapping = label_mapping,\n",
    "        trim=trim,\n",
    "    )\n",
    "\n",
    "    return data"
   ]
  },
  {
   "cell_type": "code",
   "execution_count": 7,
   "id": "213c08cd-31f6-45fe-975b-981a0250b41b",
   "metadata": {},
   "outputs": [
    {
     "name": "stderr",
     "output_type": "stream",
     "text": [
      "/home/vibflysleep/anaconda3/envs/SleepML/lib/python3.7/site-packages/scanpy/preprocessing/_highly_variable_genes.py:208: RuntimeWarning: invalid value encountered in log\n",
      "  dispersion = np.log(dispersion)\n"
     ]
    },
    {
     "name": "stdout",
     "output_type": "stream",
     "text": [
      "y has 4 columns\n"
     ]
    }
   ],
   "source": [
    "data = load_data(BACKGROUND, CLUSTER, MODEL_PROPERTIES, SEED, FRACTION, trim=TRIM)\n",
    "encoding = data[\"encoding\"]"
   ]
  },
  {
   "cell_type": "code",
   "execution_count": 8,
   "id": "70235a6c-556d-4e95-b005-03cfedc67ac3",
   "metadata": {},
   "outputs": [
    {
     "data": {
      "text/plain": [
       "{0: 'SD', 1: 'SD++', 2: 'drug', 3: 'sleep'}"
      ]
     },
     "execution_count": 8,
     "metadata": {},
     "output_type": "execute_result"
    }
   ],
   "source": [
    "encoding"
   ]
  },
  {
   "cell_type": "code",
   "execution_count": 9,
   "id": "22bad1b6-1367-430f-b1f2-e26b83f05257",
   "metadata": {},
   "outputs": [
    {
     "data": {
      "text/plain": [
       "(952,)"
      ]
     },
     "execution_count": 9,
     "metadata": {},
     "output_type": "execute_result"
    }
   ],
   "source": [
    "data[\"datasets\"][2].std(0).shape"
   ]
  },
  {
   "cell_type": "code",
   "execution_count": 10,
   "id": "b687d6d7-9732-40ef-b849-5fb025db05d7",
   "metadata": {},
   "outputs": [],
   "source": [
    "def reencode_y(X_train, y_train, X_test, y_test):\n",
    "    y_train = y_train[:,:-1]\n",
    "    y_test = y_test[:,:-1]\n",
    "    return (X_train, y_train, X_test, y_test)\n",
    "    \n",
    "    "
   ]
  },
  {
   "cell_type": "code",
   "execution_count": 11,
   "id": "255eac68-bb80-49e8-9de6-f65ee1ef105e",
   "metadata": {},
   "outputs": [],
   "source": [
    "def random_forest_pipeline(X_train, y_train, X_test, y_test):\n",
    "    random_forest = RandomForestClassifier(class_weight=\"balanced\", n_estimators=X_train.shape[1], n_jobs=10)\n",
    "    random_forest.fit(X_train, y_train)\n",
    "    _, weights = random_forest._validate_y_class_weight(y_train)\n",
    "    \n",
    "    test_accuracy = random_forest.score(X_test, y_test)\n",
    "    print(f\"Test accuracy: {test_accuracy:.3f}\")\n",
    "    predictions = random_forest.predict(X_test).argmax(1)\n",
    "    return predictions"
   ]
  },
  {
   "cell_type": "code",
   "execution_count": 12,
   "id": "f053b945-e3dd-4981-9cfe-664443bb7d17",
   "metadata": {},
   "outputs": [],
   "source": [
    "def svm_pipeline(X_train, y_train, X_test, y_test):\n",
    "    \n",
    "    \n",
    "    # https://scikit-learn.org/stable/modules/svm.html#tips-on-practical-use\n",
    "    # Make scale invariant\n",
    "    scale = X_train.std(axis=0)\n",
    "    X_train /= scale\n",
    "    X_test /= scale\n",
    "    # increase RAM to 2GB\n",
    "    CACHE_SIZE=2000\n",
    "    # increase regularization\n",
    "    C=.001\n",
    "\n",
    "    svm = SVC(decision_function_shape='ovo', cache_size=CACHE_SIZE, C=C)\n",
    "    svm.fit(X_train, y_train.argmax(1))\n",
    "    test_accuracy = svm.score(X_test, y_test.argmax(1))\n",
    "    print(f\"Test accuracy: {test_accuracy:.3f}\")\n",
    "    predictions = svm.predict(X_test)\n",
    "    return predictions\n",
    "    "
   ]
  },
  {
   "cell_type": "code",
   "execution_count": 13,
   "id": "3d526cc0-a03c-4b1c-be04-228ba3a2945c",
   "metadata": {},
   "outputs": [],
   "source": [
    "def nearest_neighbors_pipeline(X_train, y_train, X_test, y_test):\n",
    "    \n",
    "    nearest_neighbors = KNeighborsClassifier()\n",
    "    nearest_neighbors.fit(X_train, y_train.argmax(1))\n",
    "    \n",
    "    test_accuracy = nearest_neighbors.score(X_test, y_test.argmax(1))\n",
    "    print(f\"Test accuracy: {test_accuracy:.3f}\")\n",
    "    predictions = nearest_neighbors.predict(X_test)\n",
    "    return predictions\n",
    "      "
   ]
  },
  {
   "cell_type": "code",
   "execution_count": 14,
   "id": "97fb461a-616d-44fa-8ff5-92a48e91be11",
   "metadata": {},
   "outputs": [],
   "source": [
    "# datasets=reencode_y(*data[\"datasets\"])"
   ]
  },
  {
   "cell_type": "code",
   "execution_count": 15,
   "id": "7fb2057b-dfc3-4c40-b030-62771d0d151c",
   "metadata": {
    "tags": []
   },
   "outputs": [
    {
     "name": "stdout",
     "output_type": "stream",
     "text": [
      "Test accuracy: 0.470\n"
     ]
    }
   ],
   "source": [
    "predictions = random_forest_pipeline(*data[\"datasets\"])"
   ]
  },
  {
   "cell_type": "code",
   "execution_count": 17,
   "id": "c3409d87-0bb2-481b-a669-b09d9afe02d0",
   "metadata": {},
   "outputs": [
    {
     "name": "stdout",
     "output_type": "stream",
     "text": [
      "Test accuracy: 0.538\n"
     ]
    }
   ],
   "source": [
    "predictions = svm_pipeline(*data[\"datasets\"])"
   ]
  },
  {
   "cell_type": "code",
   "execution_count": 18,
   "id": "3bbe0d96-de19-431d-a830-237b1884e97e",
   "metadata": {},
   "outputs": [
    {
     "name": "stdout",
     "output_type": "stream",
     "text": [
      "Test accuracy: 0.479\n"
     ]
    }
   ],
   "source": [
    "predictions = nearest_neighbors_pipeline(*data[\"datasets\"])"
   ]
  },
  {
   "cell_type": "code",
   "execution_count": 20,
   "id": "52e0ea6e-f364-4ed5-a08f-537223594039",
   "metadata": {},
   "outputs": [
    {
     "data": {
      "text/plain": [
       "(117,)"
      ]
     },
     "execution_count": 20,
     "metadata": {},
     "output_type": "execute_result"
    }
   ],
   "source": [
    "predictions.shape"
   ]
  },
  {
   "cell_type": "code",
   "execution_count": 21,
   "id": "aeb6ce3a-bad2-4f50-abd9-8ca4506a3319",
   "metadata": {},
   "outputs": [
    {
     "ename": "ValueError",
     "evalue": "Shape mismatch: if categories is an array, it has to be of shape (n_features,).",
     "output_type": "error",
     "traceback": [
      "\u001b[0;31m---------------------------------------------------------------------------\u001b[0m",
      "\u001b[0;31mValueError\u001b[0m                                Traceback (most recent call last)",
      "\u001b[0;32m/tmp/ipykernel_390165/3529491381.py\u001b[0m in \u001b[0;36m<module>\u001b[0;34m\u001b[0m\n\u001b[0;32m----> 1\u001b[0;31m \u001b[0mencode_y\u001b[0m\u001b[0;34m(\u001b[0m\u001b[0mpredictions\u001b[0m\u001b[0;34m.\u001b[0m\u001b[0mreshape\u001b[0m\u001b[0;34m(\u001b[0m\u001b[0;34m(\u001b[0m\u001b[0;34m-\u001b[0m\u001b[0;36m1\u001b[0m\u001b[0;34m,\u001b[0m\u001b[0;36m1\u001b[0m\u001b[0;34m)\u001b[0m\u001b[0;34m)\u001b[0m\u001b[0;34m,\u001b[0m \u001b[0mencoding\u001b[0m\u001b[0;34m=\u001b[0m\u001b[0mencoding\u001b[0m\u001b[0;34m)\u001b[0m\u001b[0;34m\u001b[0m\u001b[0;34m\u001b[0m\u001b[0m\n\u001b[0m",
      "\u001b[0;32m~/anaconda3/envs/SleepML/lib/python3.7/site-packages/sleep_models-1.0.2.3558eee432f44b81c53e338c52be0121afec7660-py3.7.egg/sleep_models/utils/adata.py\u001b[0m in \u001b[0;36mencode_y\u001b[0;34m(y, encoding)\u001b[0m\n\u001b[1;32m    258\u001b[0m     \u001b[0mcategories\u001b[0m \u001b[0;34m=\u001b[0m \u001b[0;34m[\u001b[0m\u001b[0mencoding\u001b[0m\u001b[0;34m[\u001b[0m\u001b[0mi\u001b[0m\u001b[0;34m]\u001b[0m \u001b[0;32mfor\u001b[0m \u001b[0mi\u001b[0m \u001b[0;32min\u001b[0m \u001b[0mrange\u001b[0m\u001b[0;34m(\u001b[0m\u001b[0mlen\u001b[0m\u001b[0;34m(\u001b[0m\u001b[0mencoding\u001b[0m\u001b[0;34m)\u001b[0m\u001b[0;34m)\u001b[0m\u001b[0;34m]\u001b[0m\u001b[0;34m\u001b[0m\u001b[0;34m\u001b[0m\u001b[0m\n\u001b[1;32m    259\u001b[0m     \u001b[0mencoder\u001b[0m \u001b[0;34m=\u001b[0m \u001b[0mOneHotEncoder\u001b[0m\u001b[0;34m(\u001b[0m\u001b[0mcategories\u001b[0m\u001b[0;34m=\u001b[0m\u001b[0mcategories\u001b[0m\u001b[0;34m)\u001b[0m\u001b[0;34m\u001b[0m\u001b[0;34m\u001b[0m\u001b[0m\n\u001b[0;32m--> 260\u001b[0;31m     \u001b[0mencoder\u001b[0m\u001b[0;34m.\u001b[0m\u001b[0mfit\u001b[0m\u001b[0;34m(\u001b[0m\u001b[0my\u001b[0m\u001b[0;34m)\u001b[0m\u001b[0;34m\u001b[0m\u001b[0;34m\u001b[0m\u001b[0m\n\u001b[0m\u001b[1;32m    261\u001b[0m     \u001b[0my_encoded\u001b[0m \u001b[0;34m=\u001b[0m \u001b[0mencoder\u001b[0m\u001b[0;34m.\u001b[0m\u001b[0mtransform\u001b[0m\u001b[0;34m(\u001b[0m\u001b[0my\u001b[0m\u001b[0;34m)\u001b[0m\u001b[0;34m.\u001b[0m\u001b[0mtoarray\u001b[0m\u001b[0;34m(\u001b[0m\u001b[0;34m)\u001b[0m\u001b[0;34m\u001b[0m\u001b[0;34m\u001b[0m\u001b[0m\n\u001b[1;32m    262\u001b[0m     \u001b[0;32mreturn\u001b[0m \u001b[0my_encoded\u001b[0m\u001b[0;34m\u001b[0m\u001b[0;34m\u001b[0m\u001b[0m\n",
      "\u001b[0;32m~/anaconda3/envs/SleepML/lib/python3.7/site-packages/sklearn/preprocessing/_encoders.py\u001b[0m in \u001b[0;36mfit\u001b[0;34m(self, X, y)\u001b[0m\n\u001b[1;32m    459\u001b[0m         \"\"\"\n\u001b[1;32m    460\u001b[0m         \u001b[0mself\u001b[0m\u001b[0;34m.\u001b[0m\u001b[0m_validate_keywords\u001b[0m\u001b[0;34m(\u001b[0m\u001b[0;34m)\u001b[0m\u001b[0;34m\u001b[0m\u001b[0;34m\u001b[0m\u001b[0m\n\u001b[0;32m--> 461\u001b[0;31m         \u001b[0mself\u001b[0m\u001b[0;34m.\u001b[0m\u001b[0m_fit\u001b[0m\u001b[0;34m(\u001b[0m\u001b[0mX\u001b[0m\u001b[0;34m,\u001b[0m \u001b[0mhandle_unknown\u001b[0m\u001b[0;34m=\u001b[0m\u001b[0mself\u001b[0m\u001b[0;34m.\u001b[0m\u001b[0mhandle_unknown\u001b[0m\u001b[0;34m,\u001b[0m \u001b[0mforce_all_finite\u001b[0m\u001b[0;34m=\u001b[0m\u001b[0;34m\"allow-nan\"\u001b[0m\u001b[0;34m)\u001b[0m\u001b[0;34m\u001b[0m\u001b[0;34m\u001b[0m\u001b[0m\n\u001b[0m\u001b[1;32m    462\u001b[0m         \u001b[0mself\u001b[0m\u001b[0;34m.\u001b[0m\u001b[0mdrop_idx_\u001b[0m \u001b[0;34m=\u001b[0m \u001b[0mself\u001b[0m\u001b[0;34m.\u001b[0m\u001b[0m_compute_drop_idx\u001b[0m\u001b[0;34m(\u001b[0m\u001b[0;34m)\u001b[0m\u001b[0;34m\u001b[0m\u001b[0;34m\u001b[0m\u001b[0m\n\u001b[1;32m    463\u001b[0m         \u001b[0;32mreturn\u001b[0m \u001b[0mself\u001b[0m\u001b[0;34m\u001b[0m\u001b[0;34m\u001b[0m\u001b[0m\n",
      "\u001b[0;32m~/anaconda3/envs/SleepML/lib/python3.7/site-packages/sklearn/preprocessing/_encoders.py\u001b[0m in \u001b[0;36m_fit\u001b[0;34m(self, X, handle_unknown, force_all_finite)\u001b[0m\n\u001b[1;32m     83\u001b[0m             \u001b[0;32mif\u001b[0m \u001b[0mlen\u001b[0m\u001b[0;34m(\u001b[0m\u001b[0mself\u001b[0m\u001b[0;34m.\u001b[0m\u001b[0mcategories\u001b[0m\u001b[0;34m)\u001b[0m \u001b[0;34m!=\u001b[0m \u001b[0mn_features\u001b[0m\u001b[0;34m:\u001b[0m\u001b[0;34m\u001b[0m\u001b[0;34m\u001b[0m\u001b[0m\n\u001b[1;32m     84\u001b[0m                 raise ValueError(\n\u001b[0;32m---> 85\u001b[0;31m                     \u001b[0;34m\"Shape mismatch: if categories is an array,\"\u001b[0m\u001b[0;34m\u001b[0m\u001b[0;34m\u001b[0m\u001b[0m\n\u001b[0m\u001b[1;32m     86\u001b[0m                     \u001b[0;34m\" it has to be of shape (n_features,).\"\u001b[0m\u001b[0;34m\u001b[0m\u001b[0;34m\u001b[0m\u001b[0m\n\u001b[1;32m     87\u001b[0m                 )\n",
      "\u001b[0;31mValueError\u001b[0m: Shape mismatch: if categories is an array, it has to be of shape (n_features,)."
     ]
    }
   ],
   "source": [
    "encode_y(predictions.reshape((-1,1)), encoding=encoding)"
   ]
  },
  {
   "cell_type": "code",
   "execution_count": null,
   "id": "9632a604-ccc6-4dcc-9697-06eb284f546b",
   "metadata": {},
   "outputs": [],
   "source": []
  }
 ],
 "metadata": {
  "kernelspec": {
   "display_name": "sleepML",
   "language": "python",
   "name": "sleepml"
  },
  "language_info": {
   "codemirror_mode": {
    "name": "ipython",
    "version": 3
   },
   "file_extension": ".py",
   "mimetype": "text/x-python",
   "name": "python",
   "nbconvert_exporter": "python",
   "pygments_lexer": "ipython3",
   "version": "3.7.4"
  }
 },
 "nbformat": 4,
 "nbformat_minor": 5
}
